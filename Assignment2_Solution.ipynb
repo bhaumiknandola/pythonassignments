{
 "cells": [
  {
   "cell_type": "markdown",
   "metadata": {},
   "source": [
    "#TASK 1:"
   ]
  },
  {
   "cell_type": "markdown",
   "metadata": {},
   "source": [
    "1.1 built in Reduce()"
   ]
  },
  {
   "cell_type": "code",
   "execution_count": 2,
   "metadata": {},
   "outputs": [],
   "source": [
    "def numbers_sum(x1, x2): \n",
    "    return x1 + x2\n",
    "\n",
    "def my_reduce(func, seq):\n",
    "    first = seq[0]\n",
    "    for i in seq[1:]:\n",
    "        first = func(first, i)\n",
    "    return first\n",
    "\n",
    "print(my_reduce(numbers_sum, [56,34,78,47]))"
   ]
  },
  {
   "cell_type": "code",
   "execution_count": null,
   "metadata": {},
   "outputs": [],
   "source": []
  },
  {
   "cell_type": "markdown",
   "metadata": {},
   "source": [
    "1.2 Built in Filter()"
   ]
  },
  {
   "cell_type": "code",
   "execution_count": null,
   "metadata": {},
   "outputs": [],
   "source": [
    "def filterEven(num):\n",
    "    if num % 2 == 0:\n",
    "             return True\n",
    "    else:\n",
    "             return False\n",
    "\n",
    "numbers = input('enter Numbers')\n",
    "num = (numbers.split(\",\"))\n",
    "final_lst = []\n",
    "for integers in num:\n",
    "    integers = int(integers)\n",
    "    output = filterEven(integers)\n",
    "    \n",
    "    if output == True:\n",
    "        final_lst.append(integers)\n",
    "print (final_lst)"
   ]
  },
  {
   "cell_type": "markdown",
   "metadata": {},
   "source": [
    "2. List comprehensions"
   ]
  },
  {
   "cell_type": "code",
   "execution_count": null,
   "metadata": {},
   "outputs": [],
   "source": [
    "string = \"xyz\"\n",
    "\n",
    "lst = [i*count for i in string for count in range(5) if count!=0]\n",
    "print(lst)\n"
   ]
  },
  {
   "cell_type": "markdown",
   "metadata": {},
   "source": [
    "3. Longest Word"
   ]
  },
  {
   "cell_type": "code",
   "execution_count": null,
   "metadata": {},
   "outputs": [],
   "source": [
    "def longest_word(word_list):\n",
    "    longest_word = ''\n",
    "    for word in word_list:\n",
    "        if len(word) > len(longest_word):\n",
    "            longest_word = word\n",
    "    print (longest_word)\n",
    "\n",
    "words = input('Please enter a few words')  \n",
    "word_list = words.split()  \n",
    "longest_word(word_list)"
   ]
  },
  {
   "cell_type": "markdown",
   "metadata": {},
   "source": [
    "Task 2:"
   ]
  },
  {
   "cell_type": "markdown",
   "metadata": {},
   "source": [
    "1.1 Area of a Triangle\n"
   ]
  },
  {
   "cell_type": "code",
   "execution_count": null,
   "metadata": {},
   "outputs": [],
   "source": [
    "import sys\n",
    "import math\n",
    "\n",
    "\n",
    "class triangle():\n",
    "    \n",
    "    def __init__(self,a,b,c):\n",
    "       self.a = a\n",
    "       self.b = b\n",
    "       self.c = c\n",
    "\n",
    "    \n",
    "\n",
    "class areaoftraingle(triangle):\n",
    "    \n",
    "    def area(self,a, b, c):\n",
    "        \n",
    "        s=(a + b + c)/2\n",
    "        area = math.sqrt(s*(s-a)*(s-b)*(s-c))\n",
    "        return area\n",
    "\n",
    "a = int(input(\"Enter the value of the first side:\"))\n",
    "b = int(input(\"Enter the value of the second side:\"))\n",
    "c = int(input(\"Enter the value of the third side:\"))\n",
    "t = areaoftraingle(a,b,c)\n",
    "print(t.area(a,b,c))"
   ]
  },
  {
   "cell_type": "markdown",
   "metadata": {},
   "source": [
    "1.2 Filter long words greater than integer"
   ]
  },
  {
   "cell_type": "code",
   "execution_count": null,
   "metadata": {},
   "outputs": [],
   "source": [
    "def filterlongword(string,number):\n",
    "    return [word for word in string if len(word) > number]\n",
    "\n",
    "def main():\n",
    "    words = input(\"Please input the list of words: \").split()\n",
    "    integer = eval(input(\"Please input an integer: \"))\n",
    "\n",
    "    words1 = filterlongword(words,integer)\n",
    "\n",
    "    print(\"The list of words greater than the integer is\",words1)\n",
    "\n",
    "main()"
   ]
  },
  {
   "cell_type": "markdown",
   "metadata": {},
   "source": [
    "2.1maping words into integers"
   ]
  },
  {
   "cell_type": "code",
   "execution_count": null,
   "metadata": {},
   "outputs": [],
   "source": [
    "def wordtointeger(listOfWords):\n",
    "    listOfInts = []\n",
    "    for i in range(len(listOfWords)):\n",
    "        \n",
    "        listOfInts.append(len(listOfWords[i]))\n",
    " \n",
    "    print (\"List of words:\"+str(listOfWords))    \n",
    "    print (\"List of wordlength:\"+str(listOfInts))\n",
    "\n",
    "\n",
    "stringinput = input('enter the list of words')\n",
    "listOfWords = stringinput.split(\",\")\n",
    "wordtointeger(listOfWords)\n"
   ]
  },
  {
   "cell_type": "markdown",
   "metadata": {},
   "source": [
    " 2.2 if a char is vowel or not"
   ]
  },
  {
   "cell_type": "code",
   "execution_count": null,
   "metadata": {},
   "outputs": [],
   "source": [
    "def vowels(char):\n",
    "    letters = ['a', 'e', 'i', 'o', 'u'] \n",
    "    if (char in letters): \n",
    "        \n",
    "        print('True')\n",
    "    else: \n",
    "        \n",
    "        print('False')\n",
    "\n",
    "letter = input('enter a letter')\n",
    "vowels(letter)"
   ]
  }
 ],
 "metadata": {
  "kernelspec": {
   "display_name": "Python 3",
   "language": "python",
   "name": "python3"
  },
  "language_info": {
   "codemirror_mode": {
    "name": "ipython",
    "version": 3
   },
   "file_extension": ".py",
   "mimetype": "text/x-python",
   "name": "python",
   "nbconvert_exporter": "python",
   "pygments_lexer": "ipython3",
   "version": "3.7.4"
  }
 },
 "nbformat": 4,
 "nbformat_minor": 2
}
